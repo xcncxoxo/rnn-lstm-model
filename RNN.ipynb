{
  "nbformat": 4,
  "nbformat_minor": 0,
  "metadata": {
    "colab": {
      "provenance": [],
      "gpuType": "T4",
      "authorship_tag": "ABX9TyMrSI1sBOYAZtNKRSXvI1H6",
      "include_colab_link": true
    },
    "kernelspec": {
      "name": "python3",
      "display_name": "Python 3"
    },
    "language_info": {
      "name": "python"
    },
    "accelerator": "GPU"
  },
  "cells": [
    {
      "cell_type": "markdown",
      "metadata": {
        "id": "view-in-github",
        "colab_type": "text"
      },
      "source": [
        "<a href=\"https://colab.research.google.com/github/xcncxoxo/rnn-lstm-model/blob/main/RNN.ipynb\" target=\"_parent\"><img src=\"https://colab.research.google.com/assets/colab-badge.svg\" alt=\"Open In Colab\"/></a>"
      ]
    },
    {
      "cell_type": "markdown",
      "source": [
        "# Proyecto 1: Redes Neuronales Recurrentes\n"
      ],
      "metadata": {
        "id": "5OIOOQzqiF3c"
      }
    },
    {
      "cell_type": "markdown",
      "source": [
        "## Introducción\n",
        "\n",
        "Em este proyecto se busca explorar la aplicación de redes neuronales recurrentes (RNN) específicamente del modelo LSTM, para predecir el precio de cierre del Bitcoin.\n",
        "Se utilizó el dataset [Bitcoin Historical Data](https://www.kaggle.com/datasets/mczielinski/bitcoin-historical-data), con información diaria sobre precios y volumen de transacciones.\n",
        "\n",
        "### Objetivo\n",
        "Poner en ptráctica los conceptos revisados en clase, comprendiendo el funcionamiento de la RNN y la importancia de su estructura y utilidad al trabajar con series temporales. A través de este proyecto se busca demostrar su utilidad en contextos reales como el análisis financiero.\n",
        "\n",
        "#### Conjunto de datos\n",
        "* Nombre: [Bitcoin Historical Data](https://www.kaggle.com/datasets/mczielinski/bitcoin-historical-data)\n",
        "* Fuente: Kaggle\n",
        "* Columnas importantes: *datetime*, *close*\n",
        "* Total de registros: 6983813\n",
        "\n",
        "### Sobre el modelo\n",
        "#### Preprocesamiento\n",
        "Se realizó la conversión de la columna *datetime* al formato adecuado. Se normalizaron los datos con **MinMaxScaler**. Se generaron secuencias de 30 días.\n",
        "\n",
        "#### Modelo\n",
        "* Arquitectura: 2 capas LSTM y una capa Dense\n",
        "* Optimización: Adam\n",
        "* Pérdida: MSE\n",
        "* Épocas: 10\n",
        "* Batch: 64\n",
        "\n",
        "#### Justificación\n",
        "La ventaja de ete modelo es su capacidad para trabajar con secuencias temporales; el precio del bitcoin está altamente influenciado por su comportamiento en días anteriores.\n",
        "\n",
        "La primera capa LSTM captura los patrones locales (de un día al siguiente) y la segunda capa LSTM entiende los patrones más a largo plazo (semanas). La capa Dense convierte la salida de la segunda capa LSTM al valor que se quiere predecir.\n",
        "\n",
        "Se implementó el optimizador **Adam** por su notoriedad y eficiencia para el entrenamiento de redes profundas."
      ],
      "metadata": {
        "id": "0uWVShOZK4px"
      }
    },
    {
      "cell_type": "code",
      "execution_count": 1,
      "metadata": {
        "id": "wBgCxQfFhpgW"
      },
      "outputs": [],
      "source": [
        "import numpy as np\n",
        "import pandas as pd\n",
        "import matplotlib.pyplot as plt\n",
        "from sklearn.preprocessing import MinMaxScaler\n",
        "from tensorflow.keras.models import Sequential\n",
        "from tensorflow.keras.layers import LSTM, Dense\n",
        "from tensorflow.keras.optimizers import Adam"
      ]
    },
    {
      "cell_type": "code",
      "source": [
        "df = pd.read_csv('/content/btcusd_1-min_data.csv')"
      ],
      "metadata": {
        "id": "Zl_DoyDUr60h",
        "collapsed": true
      },
      "execution_count": 2,
      "outputs": []
    },
    {
      "cell_type": "code",
      "source": [
        "print(df.shape) # pa saber cuántpos datos tenemos"
      ],
      "metadata": {
        "colab": {
          "base_uri": "https://localhost:8080/"
        },
        "id": "3fkRYK8kgwqt",
        "outputId": "2a6c2ea1-085f-48a6-abae-7bfe81fa58bf"
      },
      "execution_count": 3,
      "outputs": [
        {
          "output_type": "stream",
          "name": "stdout",
          "text": [
            "(1592095, 7)\n"
          ]
        }
      ]
    },
    {
      "cell_type": "code",
      "source": [
        "print(df.columns)"
      ],
      "metadata": {
        "colab": {
          "base_uri": "https://localhost:8080/"
        },
        "id": "JsqEoOMWJHzm",
        "outputId": "8548f899-ad02-4cb4-c5ae-11b457f84726"
      },
      "execution_count": 4,
      "outputs": [
        {
          "output_type": "stream",
          "name": "stdout",
          "text": [
            "Index(['Timestamp', 'Open', 'High', 'Low', 'Close', 'Volume', 'datetime'], dtype='object')\n"
          ]
        }
      ]
    },
    {
      "cell_type": "code",
      "source": [
        "# checar que la columna de fecha está en formato de fecha\n",
        "df['datetime'] = pd.to_datetime(df['datetime'])\n",
        "df.set_index('datetime', inplace=True)"
      ],
      "metadata": {
        "id": "yIYvYdAYGpZW"
      },
      "execution_count": 5,
      "outputs": []
    },
    {
      "cell_type": "code",
      "source": [
        "df = df[['Close']]  # nos interesa el precio de cierre"
      ],
      "metadata": {
        "id": "ufRUyBnqGqQu"
      },
      "execution_count": 6,
      "outputs": []
    },
    {
      "cell_type": "code",
      "source": [
        "print(df.shape) # pa saber cuántpos datos tenemos"
      ],
      "metadata": {
        "colab": {
          "base_uri": "https://localhost:8080/"
        },
        "id": "IsAOypzWzuRj",
        "outputId": "c467e59d-1c83-4e17-f71c-c860754ee3f8"
      },
      "execution_count": 7,
      "outputs": [
        {
          "output_type": "stream",
          "name": "stdout",
          "text": [
            "(1592095, 1)\n"
          ]
        }
      ]
    },
    {
      "cell_type": "code",
      "source": [
        "sample_fraction = 0.75\n",
        "df = df.sample(frac=sample_fraction, random_state=42).sort_index()\n",
        "# el data set es enorme, así que solo usamos una fracción considerable 75 %"
      ],
      "metadata": {
        "id": "4Z78Cf6mziOz"
      },
      "execution_count": 8,
      "outputs": []
    },
    {
      "cell_type": "code",
      "source": [
        "print(df.shape) # pa saber cuántpos datos tenemos"
      ],
      "metadata": {
        "colab": {
          "base_uri": "https://localhost:8080/"
        },
        "id": "PssTowbh03rn",
        "outputId": "e927f499-ed48-4d32-b8c9-8335a35a4f01"
      },
      "execution_count": 9,
      "outputs": [
        {
          "output_type": "stream",
          "name": "stdout",
          "text": [
            "(1194071, 1)\n"
          ]
        }
      ]
    },
    {
      "cell_type": "code",
      "source": [
        "# normalizamos...\n",
        "scaler = MinMaxScaler(feature_range=(0, 1))\n",
        "scaled_data = scaler.fit_transform(df)"
      ],
      "metadata": {
        "id": "72RT6Qy0HB8W"
      },
      "execution_count": 10,
      "outputs": []
    },
    {
      "cell_type": "code",
      "source": [
        "# secuencias\n",
        "sequence_length = 30\n",
        "# recordar que tenemos casi 7 millones de datos\n",
        "X = []\n",
        "y = []\n",
        "for i in range(sequence_length, len(scaled_data)):\n",
        "    X.append(scaled_data[i-sequence_length:i])\n",
        "    y.append(scaled_data[i])\n",
        "\n",
        "X, y = np.array(X), np.array(y)"
      ],
      "metadata": {
        "id": "98kRySGHHEac"
      },
      "execution_count": 16,
      "outputs": []
    },
    {
      "cell_type": "code",
      "source": [
        "# dividimos conjuntos de train y test\n",
        "train_size = int(len(X) * 0.8)\n",
        "X_train, y_train = X[:train_size], y[:train_size]\n",
        "X_test, y_test = X[train_size:], y[train_size:]"
      ],
      "metadata": {
        "id": "aWf6l7glHG29"
      },
      "execution_count": 17,
      "outputs": []
    },
    {
      "cell_type": "code",
      "source": [
        "# modelo\n",
        "model = Sequential()\n",
        "model.add(LSTM(units=50, return_sequences=True, input_shape=(X.shape[1], 1)))\n",
        "model.add(LSTM(units=50))\n",
        "model.add(Dense(1))"
      ],
      "metadata": {
        "id": "vRSWGf6SHLzN"
      },
      "execution_count": 18,
      "outputs": []
    },
    {
      "cell_type": "code",
      "source": [
        "model.compile(optimizer=Adam(), loss='mean_squared_error')"
      ],
      "metadata": {
        "id": "qmdk3TTtHNxd"
      },
      "execution_count": 19,
      "outputs": []
    },
    {
      "cell_type": "code",
      "source": [
        "# entrenamos\n",
        "history = model.fit(X_train, y_train, epochs=10, batch_size=64, validation_data=(X_test, y_test))"
      ],
      "metadata": {
        "colab": {
          "base_uri": "https://localhost:8080/"
        },
        "id": "nowgLgmnHP18",
        "outputId": "46006a53-9c75-4818-ea4b-23e2b10549f4"
      },
      "execution_count": 20,
      "outputs": [
        {
          "output_type": "stream",
          "name": "stdout",
          "text": [
            "Epoch 1/10\n",
            "\u001b[1m14926/14926\u001b[0m \u001b[32m━━━━━━━━━━━━━━━━━━━━\u001b[0m\u001b[37m\u001b[0m \u001b[1m606s\u001b[0m 40ms/step - loss: 1.7334e-04 - val_loss: nan\n",
            "Epoch 2/10\n",
            "\u001b[1m14926/14926\u001b[0m \u001b[32m━━━━━━━━━━━━━━━━━━━━\u001b[0m\u001b[37m\u001b[0m \u001b[1m620s\u001b[0m 40ms/step - loss: 3.0710e-06 - val_loss: nan\n",
            "Epoch 3/10\n",
            "\u001b[1m14926/14926\u001b[0m \u001b[32m━━━━━━━━━━━━━━━━━━━━\u001b[0m\u001b[37m\u001b[0m \u001b[1m661s\u001b[0m 43ms/step - loss: 2.3539e-06 - val_loss: nan\n",
            "Epoch 4/10\n",
            "\u001b[1m14926/14926\u001b[0m \u001b[32m━━━━━━━━━━━━━━━━━━━━\u001b[0m\u001b[37m\u001b[0m \u001b[1m649s\u001b[0m 40ms/step - loss: 2.0109e-06 - val_loss: nan\n",
            "Epoch 5/10\n",
            "\u001b[1m14926/14926\u001b[0m \u001b[32m━━━━━━━━━━━━━━━━━━━━\u001b[0m\u001b[37m\u001b[0m \u001b[1m621s\u001b[0m 40ms/step - loss: 1.9170e-06 - val_loss: nan\n",
            "Epoch 6/10\n",
            "\u001b[1m14926/14926\u001b[0m \u001b[32m━━━━━━━━━━━━━━━━━━━━\u001b[0m\u001b[37m\u001b[0m \u001b[1m636s\u001b[0m 43ms/step - loss: 1.7528e-06 - val_loss: nan\n",
            "Epoch 7/10\n",
            "\u001b[1m14926/14926\u001b[0m \u001b[32m━━━━━━━━━━━━━━━━━━━━\u001b[0m\u001b[37m\u001b[0m \u001b[1m684s\u001b[0m 43ms/step - loss: 1.6928e-06 - val_loss: nan\n",
            "Epoch 8/10\n",
            "\u001b[1m14926/14926\u001b[0m \u001b[32m━━━━━━━━━━━━━━━━━━━━\u001b[0m\u001b[37m\u001b[0m \u001b[1m645s\u001b[0m 43ms/step - loss: 1.6815e-06 - val_loss: nan\n",
            "Epoch 9/10\n",
            "\u001b[1m14926/14926\u001b[0m \u001b[32m━━━━━━━━━━━━━━━━━━━━\u001b[0m\u001b[37m\u001b[0m \u001b[1m677s\u001b[0m 43ms/step - loss: 1.6212e-06 - val_loss: nan\n",
            "Epoch 10/10\n",
            "\u001b[1m14926/14926\u001b[0m \u001b[32m━━━━━━━━━━━━━━━━━━━━\u001b[0m\u001b[37m\u001b[0m \u001b[1m682s\u001b[0m 43ms/step - loss: 1.6174e-06 - val_loss: nan\n"
          ]
        }
      ]
    },
    {
      "cell_type": "code",
      "source": [
        "predicted = model.predict(X_test)\n",
        "predicted_prices = scaler.inverse_transform(predicted)\n",
        "real_prices = scaler.inverse_transform(y_test.reshape(-1, 1))"
      ],
      "metadata": {
        "colab": {
          "base_uri": "https://localhost:8080/"
        },
        "id": "rcgBn09zHR80",
        "outputId": "346cba4f-feaa-48ad-c14f-aa71b9237118"
      },
      "execution_count": 21,
      "outputs": [
        {
          "output_type": "stream",
          "name": "stdout",
          "text": [
            "\u001b[1m7463/7463\u001b[0m \u001b[32m━━━━━━━━━━━━━━━━━━━━\u001b[0m\u001b[37m\u001b[0m \u001b[1m69s\u001b[0m 9ms/step\n"
          ]
        }
      ]
    },
    {
      "cell_type": "code",
      "source": [
        "plt.figure(figsize=(12,6))\n",
        "plt.plot(real_prices, label='Precio Real')\n",
        "plt.plot(predicted_prices, label='Predicción')\n",
        "plt.title('Predicción del Precio de Bitcoin con LSTM')\n",
        "plt.xlabel('Días')\n",
        "plt.ylabel('Precio')\n",
        "plt.legend()\n",
        "plt.grid()\n",
        "plt.show()"
      ],
      "metadata": {
        "colab": {
          "base_uri": "https://localhost:8080/",
          "height": 460
        },
        "id": "Em0ks1yXHUNl",
        "outputId": "d7e31ad7-8be3-4970-efe4-9eb41508c7d1"
      },
      "execution_count": 22,
      "outputs": [
        {
          "output_type": "display_data",
          "data": {
            "text/plain": [
              "<Figure size 1200x600 with 1 Axes>"
            ],
            "image/png": "[encoded data removed]"
          },
          "metadata": {}
        }
      ]
    },
    {
      "cell_type": "markdown",
      "source": [
        "### Conclusión\n",
        "Como se observa en la gráfica comparativa *precios reales vs. predicción*, el modelo implementado logró capturar la tendencia general del precio del Bitcoin, demostrando su capacidad para procesar datos temporales y generar predicciones.\n",
        "\n",
        "### Fuentes\n",
        "\n",
        "* Kaggle\n",
        "* Documentación de Keras y TensorFlow\n",
        "* Material de clase"
      ],
      "metadata": {
        "id": "HN7G6JzDGo2X"
      }
    }
  ]
}